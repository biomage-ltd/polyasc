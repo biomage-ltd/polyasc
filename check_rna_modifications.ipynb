{
 "cells": [
  {
   "cell_type": "markdown",
   "metadata": {},
   "source": [
    "1. Confirm where are reads are on the gene (plot, from most 3' UTR to least 3' UTR). Can we support this type of study scRNA-seq wise: https://www.ncbi.nlm.nih.gov/pubmed/30290838 ?\n",
    "2. Look at the RNA and find deviations from the refrence.\n",
    "3. Look at the DNA and filter out all somatic/germline mutations from the RNA editing.\n",
    "4. Looking at germline/somatic mutations. Can we confirm patient identity with the germline mutations?\n",
    "5. What's the ratio of germline/somatic mutations? Can we see somatic mutation in RNA.\n",
    "6. Can we see any spatial differences in cancers with various subclones and 3' UTR mRNA editing?"
   ]
  },
  {
   "cell_type": "markdown",
   "metadata": {},
   "source": [
    "Interesting reading: https://www.ncbi.nlm.nih.gov/pubmed/24289319"
   ]
  },
  {
   "cell_type": "code",
   "execution_count": 123,
   "metadata": {},
   "outputs": [],
   "source": [
    "import pysam\n",
    "import collections\n",
    "import time\n",
    "\n",
    "bam_filename = \"5k_pbmc_protein_v3_calmd.bam\"\n",
    "result_filename = \"5k_pbmc_protein_v3_calmd_gene_long_intron_removed.bam\"\n",
    "\n",
    "limit = -1"
   ]
  },
  {
   "cell_type": "markdown",
   "metadata": {},
   "source": [
    "# Filter out all reads which don't map to a gene"
   ]
  },
  {
   "cell_type": "code",
   "execution_count": 21,
   "metadata": {},
   "outputs": [],
   "source": [
    "def read_ref_seq(aligned_pairs, read_seq):\n",
    "    result = []\n",
    "    for read_coord, ref_coord, reference_base in aligned_pairs:\n",
    "        try:\n",
    "            read_base = read_seq[read_coord]\n",
    "        except TypeError as e:\n",
    "            read_base = None\n",
    "        result.append((read_base, reference_base))\n",
    "    return result"
   ]
  },
  {
   "cell_type": "code",
   "execution_count": 28,
   "metadata": {},
   "outputs": [],
   "source": [
    "flag_counter = collections.Counter()\n",
    "total_reads = 0\n",
    "after_duplicates = 0\n",
    "after_genes_only = 0\n",
    "good_reads = 0\n",
    "genes = set()\n",
    "\n",
    "with pysam.AlignmentFile(bam_filename, \"rb\") as f:\n",
    "    with pysam.AlignmentFile(result_filename, \"wb\", template=f) as g:\n",
    "        for i, read in enumerate(f):\n",
    "            if i == limit:\n",
    "                break\n",
    "            \n",
    "            total_reads += 1\n",
    "            \n",
    "            flag_counter[read.flag] += 1\n",
    "            \n",
    "            if read.flag & 0x900 != 0:\n",
    "                continue\n",
    "            \n",
    "            after_duplicates += 1\n",
    "            \n",
    "            tags = {i:j for i, j in read.get_tags()}\n",
    "            try:\n",
    "                genes.add(tags[\"GN\"])\n",
    "            except KeyError:\n",
    "                continue\n",
    "            \n",
    "            after_genes_only += 1\n",
    "            \n",
    "            long_intron = False\n",
    "            for code, length in read.cigartuples:\n",
    "                if code == 3 and length > 10000:\n",
    "                        long_intron = True\n",
    "            if long_intron:\n",
    "                continue\n",
    "            \n",
    "            good_reads += 1\n",
    "            g.write(read)"
   ]
  },
  {
   "cell_type": "code",
   "execution_count": 29,
   "metadata": {},
   "outputs": [
    {
     "name": "stdout",
     "output_type": "stream",
     "text": [
      "Reads flags: Counter({0: 59179732, 256: 42396755, 16: 42268302, 4: 33264525, 1024: 25415291, 1040: 16208331, 1028: 14491834, 272: 12184627})\n",
      "Total reads: 245409397\n",
      "Reads after secondary alignment removal: 190828015\n",
      "Reads after discarding whatever didn't map to a gene: 83212367\n",
      "Reads after discarding all reads with long introns: 82786316\n"
     ]
    }
   ],
   "source": [
    "print(\"Reads flags:\", flag_counter)\n",
    "print(\"Total reads:\", total_reads)\n",
    "print(\"Reads after secondary alignment removal:\", after_duplicates)\n",
    "print(\"Reads after discarding whatever didn't map to a gene:\", after_genes_only)\n",
    "print(\"Reads after discarding all reads with long introns:\", good_reads)"
   ]
  },
  {
   "cell_type": "markdown",
   "metadata": {},
   "source": [
    "```\n",
    "Reads flags: Counter({0: 59179732, 256: 42396755, 16: 42268302, 4: 33264525, 1024: 25415291, 1040: 16208331, 1028: 14491834, 272: 12184627})\n",
    "Total reads: 245409397\n",
    "Reads after secondary alignment removal: 190828015\n",
    "Reads after discarding whatever didn't map to a gene: 83212367\n",
    "Reads after discarding all reads with long introns: 82786316\n",
    "```"
   ]
  },
  {
   "cell_type": "code",
   "execution_count": 38,
   "metadata": {},
   "outputs": [
    {
     "name": "stdout",
     "output_type": "stream",
     "text": [
      "Fraction of reads written to filtered file 0.33733963333115563\n"
     ]
    }
   ],
   "source": [
    "print(\"Fraction of reads written to filtered file\", good_reads/total_reads)"
   ]
  },
  {
   "cell_type": "markdown",
   "metadata": {},
   "source": [
    "```\n",
    "Fraction of reads written to filtered file 0.33733963333115563\n",
    "```"
   ]
  },
  {
   "cell_type": "code",
   "execution_count": 30,
   "metadata": {},
   "outputs": [
    {
     "name": "stdout",
     "output_type": "stream",
     "text": [
      "Number of genes 22766\n"
     ]
    }
   ],
   "source": [
    "print(\"Number of genes\", len(genes))"
   ]
  },
  {
   "cell_type": "markdown",
   "metadata": {},
   "source": [
    "```\n",
    "Number of genes 22766\n",
    "```"
   ]
  },
  {
   "cell_type": "code",
   "execution_count": 32,
   "metadata": {},
   "outputs": [],
   "source": [
    "!samtools index 5k_pbmc_protein_v3_calmd_gene_long_intron_removed.bam"
   ]
  },
  {
   "cell_type": "markdown",
   "metadata": {},
   "source": [
    "# Find RNA editing evets, SNPs and SNVs"
   ]
  },
  {
   "cell_type": "code",
   "execution_count": 81,
   "metadata": {},
   "outputs": [],
   "source": [
    "def read_base_reference(read):\n",
    "    aligned_pairs = read.get_aligned_pairs(with_seq=True)\n",
    "    read_seq = read.seq\n",
    "    result = {}\n",
    "    for read_coord, ref_coord, reference_base in aligned_pairs:\n",
    "        try:\n",
    "            read_base = read_seq[read_coord]\n",
    "        except TypeError as e:\n",
    "            read_base = None\n",
    "        result[read_coord] = (read_base, reference_base)\n",
    "    return result"
   ]
  },
  {
   "cell_type": "code",
   "execution_count": 135,
   "metadata": {
    "scrolled": false
   },
   "outputs": [
    {
     "name": "stdout",
     "output_type": "stream",
     "text": [
      "1 1000078 Counter({('a', 'G', True): 9}) 9\n",
      "1 1013540 Counter({('t', 'C', False): 12}) 12\n",
      "1 1014273 Counter({('a', 'G', False): 2267}) 2267\n",
      "1 1014536 Counter({('g', 'A', False): 15, ('g', 'T', False): 1}) 89\n",
      "1 1081960 Counter({('g', 'T', True): 33}) 33\n",
      "1 1223250 Counter({('a', 'G', True): 34}) 34\n",
      "1 1291863 Counter({('g', 'A', False): 8}) 16\n",
      "1 1292516 Counter({('a', 'G', True): 22}) 48\n",
      "1 1301655 Counter({('t', 'C', True): 21}) 47\n",
      "1 1352964 Counter({('a', 'G', True): 7}) 7\n",
      "1 1395345 Counter({('a', 'G', True): 6}) 6\n",
      "1 1401953 Counter({('g', 'T', True): 204}) 206\n",
      "1 1407231 Counter({('g', 'C', True): 74}) 75\n",
      "1 1468855 Counter({('c', 'T', False): 8}) 9\n",
      "1 1496121 Counter({('g', 'A', False): 60}) 61\n",
      "1 1497604 Counter({('g', 'C', False): 5}) 6\n",
      "1 1497605 Counter({('c', 'G', False): 5}) 6\n",
      "1 1613973 Counter({('g', 'A', True): 30}) 54\n",
      "1 1616546 Counter({('t', 'C', False): 4}) 7\n",
      "1 1617053 Counter({('c', 'A', False): 11}) 77\n",
      "1 1617055 Counter({('c', 'T', False): 10}) 77\n",
      "1 1617056 Counter({('t', 'A', False): 12}) 77\n",
      "1 1617058 Counter({('g', 'A', False): 12}) 81\n",
      "1 1635322 Counter({('c', 'G', True): 6}) 11\n",
      "1 1635542 Counter({('t', 'C', True): 10}) 23\n",
      "1 1641725 Counter({('c', 'T', True): 4}) 15\n",
      "1 1657286 Counter({('c', 'T', True): 4}) 40\n",
      "1 1657295 Counter({('c', 'T', True): 17}) 57\n",
      "1 1657296 Counter({('g', 'A', True): 17}) 59\n",
      "1 1659004 Counter({('t', 'C', True): 5}) 14\n",
      "1 1659704 Counter({('g', 'A', True): 9}) 24\n",
      "1 1661598 Counter({('t', 'C', True): 23}) 190\n",
      "1 1664416 Counter({('g', 'A', True): 19}) 27\n",
      "1 1671096 Counter({('g', 'C', True): 6}) 6\n",
      "1 1691223 Counter({('c', 'T', True): 7}) 18\n",
      "1 1702732 Counter({('c', 'T', True): 6}) 22\n",
      "1 1702733 Counter({('c', 'T', True): 5}) 25\n",
      "1 1708950 Counter({('c', 'T', True): 41}) 113\n",
      "1 1719367 Counter({('t', 'C', True): 64}) 66\n",
      "1 1719405 Counter({('g', 'A', True): 75}) 76\n",
      "1 1722598 Counter({('g', 'A', True): 65, ('g', 'T', True): 1}) 189\n",
      "1 1722618 Counter({('c', 'T', True): 48}) 172\n",
      "1 1722624 Counter({('a', 'T', True): 47}) 167\n",
      "1 1722627 Counter({('c', 'T', True): 15}) 133\n",
      "1 1724034 Counter({('g', 'A', True): 9}) 23\n",
      "1 1727505 Counter({('t', 'C', True): 10}) 98\n",
      "1 1728670 Counter({('c', 'A', True): 7}) 7\n",
      "1 1730322 Counter({('g', 'A', True): 37}) 41\n",
      "1 1732391 Counter({('c', 'T', True): 7}) 7\n",
      "1 1735369 Counter({('g', 'A', True): 5}) 8\n",
      "1 1751233 Counter({('a', 'T', True): 17}) 30\n",
      "1 1752729 Counter({('c', 'G', True): 122}) 232\n",
      "1 1754600 Counter({('g', 'T', True): 9}) 12\n",
      "1 1785577 Counter({('c', 'G', True): 30}) 181\n",
      "1 1785584 Counter({('c', 'G', True): 12, ('c', 'T', True): 1}) 119\n",
      "1 1785642 Counter({('g', 'C', True): 17}) 161\n",
      "1 1785643 Counter({('a', 'C', True): 17, ('a', 'T', True): 1}) 155\n",
      "1 1785644 Counter({('a', 'C', True): 17}) 154\n",
      "1 1785648 Counter({('a', 'T', True): 17}) 130\n",
      "1 1786995 Counter({('c', 'G', True): 153, ('c', 'T', True): 1}) 349\n",
      "1 1891087 Counter({('g', 'C', True): 20}) 41\n",
      "1 1892482 Counter({('a', 'G', False): 7}) 7\n"
     ]
    }
   ],
   "source": [
    "start = time.time()\n",
    "samfile = pysam.AlignmentFile(result_filename, \"rb\")\n",
    "for pileupcolumn in samfile.pileup(\"1\", 1000000, 1900000):\n",
    "    disagreement = collections.Counter()\n",
    "    total = 0\n",
    "    for pileupread in pileupcolumn.pileups:\n",
    "        if not pileupread.is_del and not pileupread.is_refskip:\n",
    "            total += 1\n",
    "            read = pileupread.alignment\n",
    "            read_base, reference_base = read_base_reference(read)[pileupread.query_position]\n",
    "            if read_base != reference_base:\n",
    "                disagreement[(reference_base, read_base, read.is_reverse)] += 1\n",
    "    if disagreement and total > 5:\n",
    "        max_disagree = max(disagreement.values())\n",
    "        if max_disagree > 3 and max_disagree >= 0.1 * total:\n",
    "            print(pileupcolumn.reference_name, pileupcolumn.pos, disagreement, total)\n",
    "            \n",
    "stop = time.time()"
   ]
  },
  {
   "cell_type": "code",
   "execution_count": 128,
   "metadata": {},
   "outputs": [
    {
     "data": {
      "text/plain": [
       "'1'"
      ]
     },
     "execution_count": 128,
     "metadata": {},
     "output_type": "execute_result"
    }
   ],
   "source": [
    "pileupcolumn.reference_name\n",
    "#dir(pileupcolumn)"
   ]
  },
  {
   "cell_type": "code",
   "execution_count": 129,
   "metadata": {},
   "outputs": [
    {
     "data": {
      "text/plain": [
       "['__class__',\n",
       " '__delattr__',\n",
       " '__dir__',\n",
       " '__doc__',\n",
       " '__eq__',\n",
       " '__format__',\n",
       " '__ge__',\n",
       " '__getattribute__',\n",
       " '__gt__',\n",
       " '__hash__',\n",
       " '__init__',\n",
       " '__init_subclass__',\n",
       " '__le__',\n",
       " '__len__',\n",
       " '__lt__',\n",
       " '__ne__',\n",
       " '__new__',\n",
       " '__reduce__',\n",
       " '__reduce_ex__',\n",
       " '__repr__',\n",
       " '__setattr__',\n",
       " '__setstate__',\n",
       " '__sizeof__',\n",
       " '__str__',\n",
       " '__subclasshook__',\n",
       " 'get_mapping_qualities',\n",
       " 'get_num_aligned',\n",
       " 'get_query_names',\n",
       " 'get_query_positions',\n",
       " 'get_query_qualities',\n",
       " 'get_query_sequences',\n",
       " 'n',\n",
       " 'nsegments',\n",
       " 'pileups',\n",
       " 'pos',\n",
       " 'reference_id',\n",
       " 'reference_name',\n",
       " 'reference_pos',\n",
       " 'set_min_base_quality',\n",
       " 'tid']"
      ]
     },
     "execution_count": 129,
     "metadata": {},
     "output_type": "execute_result"
    }
   ],
   "source": [
    "dir(pileupcolumn)"
   ]
  },
  {
   "cell_type": "code",
   "execution_count": 118,
   "metadata": {},
   "outputs": [
    {
     "name": "stdout",
     "output_type": "stream",
     "text": [
      "28.734182119369507\n"
     ]
    }
   ],
   "source": [
    "print(stop - start)"
   ]
  },
  {
   "cell_type": "markdown",
   "metadata": {},
   "source": [
    "How many hours will it take to run the RNA modifications/ editing script"
   ]
  },
  {
   "cell_type": "code",
   "execution_count": 121,
   "metadata": {},
   "outputs": [
    {
     "data": {
      "text/plain": [
       "2.2025898897552536"
      ]
     },
     "execution_count": 121,
     "metadata": {},
     "output_type": "execute_result"
    }
   ],
   "source": [
    "(82786316/(1300000 - 1000000) * 28.734182119369507) / 3600"
   ]
  },
  {
   "cell_type": "code",
   "execution_count": 134,
   "metadata": {},
   "outputs": [
    {
     "data": {
      "text/plain": [
       "[(0, 1299996, 'G'),\n",
       " (1, 1299997, 'G'),\n",
       " (2, 1299998, 'G'),\n",
       " (3, 1299999, 'G'),\n",
       " (4, 1300000, 'T'),\n",
       " (5, 1300001, 'C'),\n",
       " (6, 1300002, 'C'),\n",
       " (7, 1300003, 'A'),\n",
       " (8, 1300004, 'G'),\n",
       " (9, 1300005, 'C'),\n",
       " (10, 1300006, 'T'),\n",
       " (11, 1300007, 'G'),\n",
       " (12, 1300008, 'G'),\n",
       " (13, 1300009, 'T'),\n",
       " (14, 1300010, 'G'),\n",
       " (15, 1300011, 'C'),\n",
       " (16, 1300012, 'A'),\n",
       " (17, 1300013, 'G'),\n",
       " (18, 1300014, 'G'),\n",
       " (19, 1300015, 'A'),\n",
       " (20, 1300016, 'G'),\n",
       " (21, 1300017, 'G'),\n",
       " (22, 1300018, 'C'),\n",
       " (23, 1300019, 'T'),\n",
       " (24, 1300020, 'G'),\n",
       " (25, 1300021, 'T'),\n",
       " (26, 1300022, 'A'),\n",
       " (27, 1300023, 'G'),\n",
       " (28, 1300024, 'C'),\n",
       " (29, 1300025, 'C'),\n",
       " (30, 1300026, 'C'),\n",
       " (31, 1300027, 'T'),\n",
       " (32, 1300028, 'G'),\n",
       " (33, 1300029, 'C'),\n",
       " (34, 1300030, 'T'),\n",
       " (35, 1300031, 'G'),\n",
       " (36, 1300032, 'G'),\n",
       " (37, 1300033, 'A'),\n",
       " (38, 1300034, 'A'),\n",
       " (39, 1300035, 'G'),\n",
       " (40, 1300036, 'A'),\n",
       " (41, 1300037, 'A'),\n",
       " (42, 1300038, 'G'),\n",
       " (43, 1300039, 'C'),\n",
       " (44, 1300040, 'T'),\n",
       " (45, 1300041, 'G'),\n",
       " (46, 1300042, 'G'),\n",
       " (47, 1300043, 'A'),\n",
       " (48, 1300044, 'C'),\n",
       " (49, 1300045, 'T'),\n",
       " (50, 1300046, 'G'),\n",
       " (51, 1300047, 'G'),\n",
       " (52, 1300048, 'G'),\n",
       " (53, 1300049, 'C'),\n",
       " (54, 1300050, 'G'),\n",
       " (55, 1300051, 'T'),\n",
       " (56, 1300052, 'G'),\n",
       " (57, 1300053, 'C'),\n",
       " (58, 1300054, 'A'),\n",
       " (59, 1300055, 'T'),\n",
       " (60, 1300056, 'G'),\n",
       " (61, 1300057, 'A'),\n",
       " (62, 1300058, 'A'),\n",
       " (63, 1300059, 'G'),\n",
       " (64, 1300060, 'G'),\n",
       " (65, 1300061, 'A'),\n",
       " (66, 1300062, 'C'),\n",
       " (67, 1300063, 'A'),\n",
       " (68, 1300064, 'G'),\n",
       " (69, 1300065, 'C'),\n",
       " (70, 1300066, 'A'),\n",
       " (71, 1300067, 'T'),\n",
       " (None, 1300068, None),\n",
       " (None, 1300069, None),\n",
       " (None, 1300070, None),\n",
       " (None, 1300071, None),\n",
       " (None, 1300072, None),\n",
       " (None, 1300073, None),\n",
       " (None, 1300074, None),\n",
       " (None, 1300075, None),\n",
       " (None, 1300076, None),\n",
       " (None, 1300077, None),\n",
       " (None, 1300078, None),\n",
       " (None, 1300079, None),\n",
       " (None, 1300080, None),\n",
       " (None, 1300081, None),\n",
       " (None, 1300082, None),\n",
       " (None, 1300083, None),\n",
       " (None, 1300084, None),\n",
       " (None, 1300085, None),\n",
       " (None, 1300086, None),\n",
       " (None, 1300087, None),\n",
       " (None, 1300088, None),\n",
       " (None, 1300089, None),\n",
       " (None, 1300090, None),\n",
       " (None, 1300091, None),\n",
       " (None, 1300092, None),\n",
       " (None, 1300093, None),\n",
       " (None, 1300094, None),\n",
       " (None, 1300095, None),\n",
       " (None, 1300096, None),\n",
       " (None, 1300097, None),\n",
       " (None, 1300098, None),\n",
       " (None, 1300099, None),\n",
       " (None, 1300100, None),\n",
       " (None, 1300101, None),\n",
       " (None, 1300102, None),\n",
       " (None, 1300103, None),\n",
       " (None, 1300104, None),\n",
       " (None, 1300105, None),\n",
       " (None, 1300106, None),\n",
       " (None, 1300107, None),\n",
       " (None, 1300108, None),\n",
       " (None, 1300109, None),\n",
       " (None, 1300110, None),\n",
       " (None, 1300111, None),\n",
       " (None, 1300112, None),\n",
       " (None, 1300113, None),\n",
       " (None, 1300114, None),\n",
       " (None, 1300115, None),\n",
       " (None, 1300116, None),\n",
       " (None, 1300117, None),\n",
       " (None, 1300118, None),\n",
       " (None, 1300119, None),\n",
       " (None, 1300120, None),\n",
       " (None, 1300121, None),\n",
       " (None, 1300122, None),\n",
       " (None, 1300123, None),\n",
       " (None, 1300124, None),\n",
       " (None, 1300125, None),\n",
       " (None, 1300126, None),\n",
       " (None, 1300127, None),\n",
       " (None, 1300128, None),\n",
       " (None, 1300129, None),\n",
       " (None, 1300130, None),\n",
       " (None, 1300131, None),\n",
       " (None, 1300132, None),\n",
       " (None, 1300133, None),\n",
       " (None, 1300134, None),\n",
       " (None, 1300135, None),\n",
       " (None, 1300136, None),\n",
       " (None, 1300137, None),\n",
       " (None, 1300138, None),\n",
       " (None, 1300139, None),\n",
       " (None, 1300140, None),\n",
       " (None, 1300141, None),\n",
       " (None, 1300142, None),\n",
       " (None, 1300143, None),\n",
       " (None, 1300144, None),\n",
       " (None, 1300145, None),\n",
       " (None, 1300146, None),\n",
       " (None, 1300147, None),\n",
       " (None, 1300148, None),\n",
       " (None, 1300149, None),\n",
       " (None, 1300150, None),\n",
       " (None, 1300151, None),\n",
       " (None, 1300152, None),\n",
       " (None, 1300153, None),\n",
       " (None, 1300154, None),\n",
       " (None, 1300155, None),\n",
       " (None, 1300156, None),\n",
       " (72, 1300157, 'A'),\n",
       " (73, 1300158, 'G'),\n",
       " (74, 1300159, 'A'),\n",
       " (75, 1300160, 'G'),\n",
       " (76, 1300161, 'T'),\n",
       " (77, 1300162, 'C'),\n",
       " (78, 1300163, 'C'),\n",
       " (79, 1300164, 'A'),\n",
       " (80, 1300165, 'G'),\n",
       " (81, 1300166, 'G'),\n",
       " (82, 1300167, 'A'),\n",
       " (83, 1300168, 'T'),\n",
       " (84, 1300169, 'C'),\n",
       " (85, 1300170, 'T'),\n",
       " (86, 1300171, 'C'),\n",
       " (87, 1300172, 'A'),\n",
       " (88, 1300173, 'A'),\n",
       " (89, 1300174, 'A'),\n",
       " (90, 1300175, 'C')]"
      ]
     },
     "execution_count": 134,
     "metadata": {},
     "output_type": "execute_result"
    }
   ],
   "source": [
    "read.get_aligned_pairs(with_seq=True)"
   ]
  },
  {
   "cell_type": "code",
   "execution_count": null,
   "metadata": {},
   "outputs": [],
   "source": []
  }
 ],
 "metadata": {
  "kernelspec": {
   "display_name": "Python 3",
   "language": "python",
   "name": "python3"
  },
  "language_info": {
   "codemirror_mode": {
    "name": "ipython",
    "version": 3
   },
   "file_extension": ".py",
   "mimetype": "text/x-python",
   "name": "python",
   "nbconvert_exporter": "python",
   "pygments_lexer": "ipython3",
   "version": "3.7.3"
  }
 },
 "nbformat": 4,
 "nbformat_minor": 2
}
