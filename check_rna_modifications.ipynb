{
 "cells": [
  {
   "cell_type": "markdown",
   "metadata": {},
   "source": [
    "1. Confirm where are reads are on the gene (plot, from most 3' UTR to least 3' UTR). Can we support this type of study scRNA-seq wise: https://www.ncbi.nlm.nih.gov/pubmed/30290838 ?\n",
    "2. Look at the RNA and find deviations from the refrence.\n",
    "3. Look at the DNA and filter out all somatic/germline mutations from the RNA editing.\n",
    "4. Looking at germline/somatic mutations. Can we confirm patient identity with the germline mutations?\n",
    "5. What's the ratio of germline/somatic mutations? Can we see somatic mutation in RNA.\n",
    "6. Can we see any spatial differences in cancers with various subclones and 3' UTR mRNA editing?"
   ]
  },
  {
   "cell_type": "markdown",
   "metadata": {},
   "source": [
    "Interesting reading: https://www.ncbi.nlm.nih.gov/pubmed/24289319"
   ]
  },
  {
   "cell_type": "code",
   "execution_count": 123,
   "metadata": {},
   "outputs": [],
   "source": [
    "import pysam\n",
    "import collections\n",
    "import time\n",
    "\n",
    "bam_filename = \"5k_pbmc_protein_v3_calmd.bam\"\n",
    "result_filename = \"5k_pbmc_protein_v3_calmd_gene_long_intron_removed.bam\"\n",
    "\n",
    "limit = -1"
   ]
  },
  {
   "cell_type": "markdown",
   "metadata": {},
   "source": [
    "# Filter out all reads which don't map to a gene"
   ]
  },
  {
   "cell_type": "code",
   "execution_count": 21,
   "metadata": {},
   "outputs": [],
   "source": [
    "def read_ref_seq(aligned_pairs, read_seq):\n",
    "    result = []\n",
    "    for read_coord, ref_coord, reference_base in aligned_pairs:\n",
    "        try:\n",
    "            read_base = read_seq[read_coord]\n",
    "        except TypeError as e:\n",
    "            read_base = None\n",
    "        result.append((read_base, reference_base))\n",
    "    return result"
   ]
  },
  {
   "cell_type": "code",
   "execution_count": 28,
   "metadata": {},
   "outputs": [],
   "source": [
    "flag_counter = collections.Counter()\n",
    "total_reads = 0\n",
    "after_duplicates = 0\n",
    "after_genes_only = 0\n",
    "good_reads = 0\n",
    "genes = set()\n",
    "\n",
    "with pysam.AlignmentFile(bam_filename, \"rb\") as f:\n",
    "    with pysam.AlignmentFile(result_filename, \"wb\", template=f) as g:\n",
    "        for i, read in enumerate(f):\n",
    "            if i == limit:\n",
    "                break\n",
    "            \n",
    "            total_reads += 1\n",
    "            \n",
    "            flag_counter[read.flag] += 1\n",
    "            \n",
    "            if read.flag & 0x900 != 0:\n",
    "                continue\n",
    "            \n",
    "            after_duplicates += 1\n",
    "            \n",
    "            tags = {i:j for i, j in read.get_tags()}\n",
    "            try:\n",
    "                genes.add(tags[\"GN\"])\n",
    "            except KeyError:\n",
    "                continue\n",
    "            \n",
    "            after_genes_only += 1\n",
    "            \n",
    "            long_intron = False\n",
    "            for code, length in read.cigartuples:\n",
    "                if code == 3 and length > 10000:\n",
    "                        long_intron = True\n",
    "            if long_intron:\n",
    "                continue\n",
    "            \n",
    "            good_reads += 1\n",
    "            g.write(read)"
   ]
  },
  {
   "cell_type": "code",
   "execution_count": 29,
   "metadata": {},
   "outputs": [
    {
     "name": "stdout",
     "output_type": "stream",
     "text": [
      "Reads flags: Counter({0: 59179732, 256: 42396755, 16: 42268302, 4: 33264525, 1024: 25415291, 1040: 16208331, 1028: 14491834, 272: 12184627})\n",
      "Total reads: 245409397\n",
      "Reads after secondary alignment removal: 190828015\n",
      "Reads after discarding whatever didn't map to a gene: 83212367\n",
      "Reads after discarding all reads with long introns: 82786316\n"
     ]
    }
   ],
   "source": [
    "print(\"Reads flags:\", flag_counter)\n",
    "print(\"Total reads:\", total_reads)\n",
    "print(\"Reads after secondary alignment removal:\", after_duplicates)\n",
    "print(\"Reads after discarding whatever didn't map to a gene:\", after_genes_only)\n",
    "print(\"Reads after discarding all reads with long introns:\", good_reads)"
   ]
  },
  {
   "cell_type": "markdown",
   "metadata": {},
   "source": [
    "```\n",
    "Reads flags: Counter({0: 59179732, 256: 42396755, 16: 42268302, 4: 33264525, 1024: 25415291, 1040: 16208331, 1028: 14491834, 272: 12184627})\n",
    "Total reads: 245409397\n",
    "Reads after secondary alignment removal: 190828015\n",
    "Reads after discarding whatever didn't map to a gene: 83212367\n",
    "Reads after discarding all reads with long introns: 82786316\n",
    "```"
   ]
  },
  {
   "cell_type": "code",
   "execution_count": 38,
   "metadata": {},
   "outputs": [
    {
     "name": "stdout",
     "output_type": "stream",
     "text": [
      "Fraction of reads written to filtered file 0.33733963333115563\n"
     ]
    }
   ],
   "source": [
    "print(\"Fraction of reads written to filtered file\", good_reads/total_reads)"
   ]
  },
  {
   "cell_type": "markdown",
   "metadata": {},
   "source": [
    "```\n",
    "Fraction of reads written to filtered file 0.33733963333115563\n",
    "```"
   ]
  },
  {
   "cell_type": "code",
   "execution_count": 30,
   "metadata": {},
   "outputs": [
    {
     "name": "stdout",
     "output_type": "stream",
     "text": [
      "Number of genes 22766\n"
     ]
    }
   ],
   "source": [
    "print(\"Number of genes\", len(genes))"
   ]
  },
  {
   "cell_type": "markdown",
   "metadata": {},
   "source": [
    "```\n",
    "Number of genes 22766\n",
    "```"
   ]
  },
  {
   "cell_type": "code",
   "execution_count": 32,
   "metadata": {},
   "outputs": [],
   "source": [
    "!samtools index 5k_pbmc_protein_v3_calmd_gene_long_intron_removed.bam"
   ]
  },
  {
   "cell_type": "markdown",
   "metadata": {},
   "source": [
    "# Find RNA editing evets, SNPs and SNVs"
   ]
  },
  {
   "cell_type": "code",
   "execution_count": 81,
   "metadata": {},
   "outputs": [],
   "source": [
    "def read_base_reference(read):\n",
    "    aligned_pairs = read.get_aligned_pairs(with_seq=True)\n",
    "    read_seq = read.seq\n",
    "    result = {}\n",
    "    for read_coord, ref_coord, reference_base in aligned_pairs:\n",
    "        try:\n",
    "            read_base = read_seq[read_coord]\n",
    "        except TypeError as e:\n",
    "            read_base = None\n",
    "        result[read_coord] = (read_base, reference_base)\n",
    "    return result"
   ]
  },
  {
   "cell_type": "code",
   "execution_count": 117,
   "metadata": {
    "scrolled": false
   },
   "outputs": [
    {
     "name": "stdout",
     "output_type": "stream",
     "text": [
      "1000078 Counter({('a', 'G'): 9}) 9\n",
      "1013540 Counter({('t', 'C'): 12}) 12\n",
      "1014273 Counter({('a', 'G'): 2267}) 2267\n",
      "1014536 Counter({('g', 'A'): 15, ('g', 'T'): 1}) 89\n",
      "1081960 Counter({('g', 'T'): 33}) 33\n",
      "1223250 Counter({('a', 'G'): 34}) 34\n",
      "1291863 Counter({('g', 'A'): 8}) 16\n",
      "1292516 Counter({('a', 'G'): 22}) 48\n"
     ]
    }
   ],
   "source": [
    "start = time.time()\n",
    "samfile = pysam.AlignmentFile(result_filename, \"rb\")\n",
    "for pileupcolumn in samfile.pileup(\"1\", 1000000, 1300000):\n",
    "    disagreement = collections.Counter()\n",
    "    total = 0\n",
    "    for pileupread in pileupcolumn.pileups:\n",
    "        if not pileupread.is_del and not pileupread.is_refskip:\n",
    "            total += 1\n",
    "            read = pileupread.alignment\n",
    "            read_base, reference_base = read_base_reference(read)[pileupread.query_position]\n",
    "            if read_base != reference_base:\n",
    "                disagreement[(reference_base, read_base)] += 1\n",
    "    if disagreement and total > 5:\n",
    "        max_disagree = max(disagreement.values())\n",
    "        if max_disagree > 3 and max_disagree >= 0.1 * total:\n",
    "            print(pileupcolumn.pos, disagreement, total)\n",
    "stop = time.time()"
   ]
  },
  {
   "cell_type": "code",
   "execution_count": 118,
   "metadata": {},
   "outputs": [
    {
     "name": "stdout",
     "output_type": "stream",
     "text": [
      "28.734182119369507\n"
     ]
    }
   ],
   "source": [
    "print(stop - start)"
   ]
  },
  {
   "cell_type": "markdown",
   "metadata": {},
   "source": [
    "How many hours will it take to run the RNA modifications/ editing script"
   ]
  },
  {
   "cell_type": "code",
   "execution_count": 121,
   "metadata": {},
   "outputs": [
    {
     "data": {
      "text/plain": [
       "2.2025898897552536"
      ]
     },
     "execution_count": 121,
     "metadata": {},
     "output_type": "execute_result"
    }
   ],
   "source": [
    "(82786316/(1300000 - 1000000) * 28.734182119369507) / 3600"
   ]
  }
 ],
 "metadata": {
  "kernelspec": {
   "display_name": "Python 3",
   "language": "python",
   "name": "python3"
  },
  "language_info": {
   "codemirror_mode": {
    "name": "ipython",
    "version": 3
   },
   "file_extension": ".py",
   "mimetype": "text/x-python",
   "name": "python",
   "nbconvert_exporter": "python",
   "pygments_lexer": "ipython3",
   "version": "3.7.3"
  }
 },
 "nbformat": 4,
 "nbformat_minor": 2
}
