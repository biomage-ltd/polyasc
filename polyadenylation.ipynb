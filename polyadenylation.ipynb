{
 "cells": [
  {
   "cell_type": "code",
   "execution_count": 1,
   "metadata": {},
   "outputs": [
    {
     "name": "stdout",
     "output_type": "stream",
     "text": [
      "Requirement already satisfied: pysam in /d0/home/adamk/pysccnv/venv/lib/python3.7/site-packages (0.15.2)\n",
      "\u001b[33mWARNING: You are using pip version 19.1.1, however version 19.2.1 is available.\n",
      "You should consider upgrading via the 'pip install --upgrade pip' command.\u001b[0m\n"
     ]
    }
   ],
   "source": [
    "!/d0/home/adamk/pysccnv/venv/bin/pip install pysam"
   ]
  },
  {
   "cell_type": "code",
   "execution_count": 2,
   "metadata": {},
   "outputs": [],
   "source": [
    "import pysam\n",
    "import json\n",
    "import pprint\n",
    "pprint = pprint.PrettyPrinter().pprint\n",
    "import re\n",
    "import collections\n",
    "import time"
   ]
  },
  {
   "cell_type": "markdown",
   "metadata": {},
   "source": [
    "# Detect polyA reads"
   ]
  },
  {
   "cell_type": "code",
   "execution_count": 3,
   "metadata": {},
   "outputs": [],
   "source": [
    "def reverse_complemented_filter(line, required_length, required_content):\n",
    "    if line.cigartuples[0][0] != 4: # 4 = softclip\n",
    "        return False\n",
    "    \n",
    "    if line.cigartuples[0][1] < required_length:\n",
    "        return False\n",
    "    \n",
    "    three_prime_sequence = line.seq[:required_length]\n",
    "    if collections.Counter(three_prime_sequence)[\"T\"] < required_content:\n",
    "        return False\n",
    "    \n",
    "    return True"
   ]
  },
  {
   "cell_type": "code",
   "execution_count": 4,
   "metadata": {},
   "outputs": [],
   "source": [
    "def standard_filter(line, required_length, required_content):\n",
    "    if line.cigartuples[-1][0] != 4: # 4 = softclip\n",
    "        return False\n",
    "    \n",
    "    if line.cigartuples[-1][1] < required_length:\n",
    "        return False\n",
    "    \n",
    "    three_prime_sequence = line.seq[-1*required_length:]\n",
    "    \n",
    "    if collections.Counter(three_prime_sequence)[\"A\"] < required_content:\n",
    "        return False\n",
    "    \n",
    "    return True"
   ]
  },
  {
   "cell_type": "code",
   "execution_count": 5,
   "metadata": {
    "scrolled": false
   },
   "outputs": [],
   "source": [
    "def polyadenylation_reader(bam_filename, limit = -1):\n",
    "    flags = collections.Counter()\n",
    "    flags_after = collections.Counter()\n",
    "    \n",
    "    polyadenylation_reads = dict()\n",
    "    \n",
    "    required_soft_clip_length = 5\n",
    "    required_TA_content = 4\n",
    "\n",
    "    with pysam.AlignmentFile(bam_filename, \"rb\") as f:\n",
    "        for i, line in enumerate(f):\n",
    "            if i == limit:\n",
    "                break\n",
    "            if not line.cigartuples:\n",
    "                continue\n",
    "            if not line.cigartuples[0]:\n",
    "                continue\n",
    "        \n",
    "            if line.flag & 0x10 == 0 and not standard_filter(line, required_soft_clip_length, required_TA_content):\n",
    "                continue\n",
    "            elif line.flag & 0x10 > 0 and not reverse_complemented_filter(line, required_soft_clip_length, required_TA_content):                \n",
    "                continue\n",
    "            \n",
    "                \n",
    "            tags = {i:j for i, j in line.get_tags()}\n",
    "            try:\n",
    "                reads_by_gene = polyadenylation_reads.setdefault(tags[\"GN\"], {})            \n",
    "                reads_by_reference_start = reads_by_gene.setdefault(line.reference_start, [])\n",
    "                reads_by_reference_start.append([tags[\"CB\"], tags[\"UB\"], line.seq])\n",
    "            except KeyError:\n",
    "                pass\n",
    "    \n",
    "    return polyadenylation_reads"
   ]
  },
  {
   "cell_type": "code",
   "execution_count": 6,
   "metadata": {},
   "outputs": [],
   "source": [
    "def serialise(o, filename):\n",
    "    with open(filename, \"w\") as f:\n",
    "        json.dump(o, f)"
   ]
  },
  {
   "cell_type": "code",
   "execution_count": 7,
   "metadata": {},
   "outputs": [],
   "source": [
    "limit = 10**7\n",
    "start = time.time()\n",
    "polya_reads = polyadenylation_reader(\"5k_pbmc_protein_v3_possorted_genome_bam.bam\", limit = limit)\n",
    "stop = time.time()"
   ]
  },
  {
   "cell_type": "code",
   "execution_count": 8,
   "metadata": {},
   "outputs": [],
   "source": [
    "runtime = stop - start"
   ]
  },
  {
   "cell_type": "code",
   "execution_count": 9,
   "metadata": {},
   "outputs": [],
   "source": [
    "estimated_runtime = runtime/limit * 245409397"
   ]
  },
  {
   "cell_type": "code",
   "execution_count": 10,
   "metadata": {},
   "outputs": [
    {
     "data": {
      "text/plain": [
       "490.98455913353365"
      ]
     },
     "execution_count": 10,
     "metadata": {},
     "output_type": "execute_result"
    }
   ],
   "source": [
    "estimated_runtime"
   ]
  },
  {
   "cell_type": "code",
   "execution_count": 11,
   "metadata": {},
   "outputs": [],
   "source": [
    "start = time.time()\n",
    "polya_reads = polyadenylation_reader(\"5k_pbmc_protein_v3_possorted_genome_bam.bam\")\n",
    "stop = time.time()"
   ]
  },
  {
   "cell_type": "code",
   "execution_count": 12,
   "metadata": {},
   "outputs": [
    {
     "data": {
      "text/plain": [
       "475.0309863090515"
      ]
     },
     "execution_count": 12,
     "metadata": {},
     "output_type": "execute_result"
    }
   ],
   "source": [
    "stop - start"
   ]
  },
  {
   "cell_type": "code",
   "execution_count": 13,
   "metadata": {},
   "outputs": [],
   "source": [
    "serialise(polya_reads, \"polyadenylation_reads.json\")"
   ]
  },
  {
   "cell_type": "markdown",
   "metadata": {},
   "source": [
    "# Load up the polya_reads"
   ]
  },
  {
   "cell_type": "code",
   "execution_count": 14,
   "metadata": {},
   "outputs": [],
   "source": [
    "def deserialise(filename):\n",
    "    with open(filename, \"r\") as f:\n",
    "        o = json.load(f)\n",
    "    return o"
   ]
  },
  {
   "cell_type": "code",
   "execution_count": 15,
   "metadata": {},
   "outputs": [],
   "source": [
    "polya_reads = deserialise(\"polyadenylation_reads.json\")"
   ]
  },
  {
   "cell_type": "code",
   "execution_count": 16,
   "metadata": {},
   "outputs": [
    {
     "data": {
      "text/plain": [
       "12127"
      ]
     },
     "execution_count": 16,
     "metadata": {},
     "output_type": "execute_result"
    }
   ],
   "source": [
    "len([key for key in polya_reads])"
   ]
  },
  {
   "cell_type": "code",
   "execution_count": 17,
   "metadata": {},
   "outputs": [],
   "source": [
    "counts = {}\n",
    "for gene, gene_data in polya_reads.items():\n",
    "    for location, sequence_data in gene_data.items():\n",
    "        UMI_per_location = collections.Counter()\n",
    "        for CB, UMI, seq in sequence_data:\n",
    "            UMI_per_location[(CB, UMI)] += 1\n",
    "        counts[gene, location] = len(UMI_per_location)"
   ]
  },
  {
   "cell_type": "code",
   "execution_count": 18,
   "metadata": {},
   "outputs": [],
   "source": [
    "sorted_by_abundance = sorted([(count, gene_location) for gene_location, count in counts.items() if count > 100], reverse=True)"
   ]
  },
  {
   "cell_type": "code",
   "execution_count": 19,
   "metadata": {},
   "outputs": [],
   "source": [
    "abundant_sites = {}\n",
    "for abundance, (gene, location) in sorted_by_abundance:\n",
    "    assert abundance > 100\n",
    "    abundant_sites.setdefault(gene, []).append(location)"
   ]
  },
  {
   "cell_type": "code",
   "execution_count": 20,
   "metadata": {},
   "outputs": [
    {
     "data": {
      "text/plain": [
       "{'HLA-B': ['31353871'],\n",
       " 'RPL30': ['98041720', '98041718'],\n",
       " 'RPS6': ['19376254'],\n",
       " 'RPL32': ['12836046', '12836048', '12836025'],\n",
       " 'TPT1': ['45337176', '45336869'],\n",
       " 'UBC': ['124911645'],\n",
       " 'DUSP1': ['172768095'],\n",
       " 'S100A8': ['153390031'],\n",
       " 'JUND': ['18279759'],\n",
       " 'RPL18': ['48615330', '48615327', '48615332'],\n",
       " 'HLA-C': ['31268748'],\n",
       " 'TMSB10': ['84906592',\n",
       "  '84906600',\n",
       "  '84906593',\n",
       "  '84906594',\n",
       "  '84906609',\n",
       "  '84906610',\n",
       "  '84906587',\n",
       "  '84906595',\n",
       "  '84906605',\n",
       "  '84906611',\n",
       "  '84906604',\n",
       "  '84906590',\n",
       "  '84906602'],\n",
       " 'S100A6': ['153534598'],\n",
       " 'RPL8': ['144789768'],\n",
       " 'RPS16': ['39433206', '39433223', '39433216'],\n",
       " 'RPL22': ['6186614'],\n",
       " 'FOS': ['75282161',\n",
       "  '75282149',\n",
       "  '75282144',\n",
       "  '75282153',\n",
       "  '75282162',\n",
       "  '75282163',\n",
       "  '75282156',\n",
       "  '75282151',\n",
       "  '75282148',\n",
       "  '75282159',\n",
       "  '75282154',\n",
       "  '75282160',\n",
       "  '75282150'],\n",
       " 'RPS14': ['150444237', '150444228'],\n",
       " 'RPS4X': ['72272602', '72272611', '72272607'],\n",
       " 'RPL14': ['40462001',\n",
       "  '40461996',\n",
       "  '40461995',\n",
       "  '40462000',\n",
       "  '40461994',\n",
       "  '40461998'],\n",
       " 'CD74': ['150401638'],\n",
       " 'DDX5': ['64499619'],\n",
       " 'S100A4': ['153543620', '153543621', '153543618'],\n",
       " 'RPS29': ['49583576', '49583578', '49583571', '49583577'],\n",
       " 'LYZ': ['69354150',\n",
       "  '69354149',\n",
       "  '69354169',\n",
       "  '69354162',\n",
       "  '69354160',\n",
       "  '69354171',\n",
       "  '69354167',\n",
       "  '69354152',\n",
       "  '69354148',\n",
       "  '69354151',\n",
       "  '69354166',\n",
       "  '69354158',\n",
       "  '69354153',\n",
       "  '69354156'],\n",
       " 'NFKBIA': ['35401512'],\n",
       " 'B2M': ['44718072',\n",
       "  '44718068',\n",
       "  '44718063',\n",
       "  '44718071',\n",
       "  '44718061',\n",
       "  '44718082',\n",
       "  '44718073',\n",
       "  '44718067',\n",
       "  '44718060',\n",
       "  '44718078',\n",
       "  '44718083',\n",
       "  '44718064',\n",
       "  '44718076',\n",
       "  '44718077',\n",
       "  '44718065',\n",
       "  '44718062',\n",
       "  '44718074',\n",
       "  '44718084',\n",
       "  '44718075',\n",
       "  '44718080',\n",
       "  '44718070'],\n",
       " 'FAU': ['65120629', '65120633'],\n",
       " 'CST3': ['23633656'],\n",
       " 'CYBA': ['88643288', '88643290'],\n",
       " 'ACTG1': ['81509970'],\n",
       " 'HLA-DRB1': ['32579078', '32578774', '32578768'],\n",
       " 'TYROBP': ['35904402'],\n",
       " 'MT-ATP6': ['9129',\n",
       "  '9128',\n",
       "  '9145',\n",
       "  '9141',\n",
       "  '9122',\n",
       "  '9134',\n",
       "  '9124',\n",
       "  '9139',\n",
       "  '9121',\n",
       "  '9135',\n",
       "  '9132',\n",
       "  '9144',\n",
       "  '9130',\n",
       "  '9138',\n",
       "  '9143',\n",
       "  '9126'],\n",
       " 'SAMHD1': ['36890396'],\n",
       " 'H3F3B': ['75778249', '75777458', '75778019'],\n",
       " 'FCN1': ['134909585'],\n",
       " 'DUSP2': ['96143165'],\n",
       " 'S100A10': ['151982914'],\n",
       " 'RPL35': ['124857882', '124857884'],\n",
       " 'JUN': ['58781485', '58781319', '58781489', '58781382', '58780787'],\n",
       " 'RPS13': ['17074388'],\n",
       " 'IGKC': ['88857165'],\n",
       " 'S100A11': ['152032505'],\n",
       " 'NKG7': ['51371619'],\n",
       " 'RPL39': ['119786503'],\n",
       " 'RPLP1': ['69455463', '69455460', '69455461'],\n",
       " 'NCF2': ['183555715'],\n",
       " 'COTL1': ['84565595'],\n",
       " 'RPS19': ['41869734',\n",
       "  '41869744',\n",
       "  '41869739',\n",
       "  '41869743',\n",
       "  '41869741',\n",
       "  '41869735',\n",
       "  '41871350',\n",
       "  '41869747'],\n",
       " 'IER3': ['30743202'],\n",
       " 'EEF2': ['3976055'],\n",
       " 'TYMP': ['50525751'],\n",
       " 'RPL23': ['38850080'],\n",
       " 'JUNB': ['12793228',\n",
       "  '12793244',\n",
       "  '12793135',\n",
       "  '12793239',\n",
       "  '12793234',\n",
       "  '12793250',\n",
       "  '12793229'],\n",
       " 'ACTB': ['5527147'],\n",
       " 'PSAP': ['71816297'],\n",
       " 'MT-ND3': ['10319', '10324', '10331', '10326'],\n",
       " 'CXCR4': ['136114348'],\n",
       " 'RPS23': ['82276059'],\n",
       " 'APRT': ['88809468'],\n",
       " 'CTSS': ['150732381'],\n",
       " 'HLA-DPA1': ['33065015', '33065013'],\n",
       " 'IL1B': ['112829750'],\n",
       " 'COMMD6': ['75526435'],\n",
       " 'TSC22D3': ['107713220'],\n",
       " 'RPL12': ['127447675', '127447677', '127447673'],\n",
       " 'CD69': ['9752485'],\n",
       " 'LAPTM5': ['30732468'],\n",
       " 'CCL3': ['36088255'],\n",
       " 'TXNIP': ['145992434'],\n",
       " 'SRSF7': ['38744892'],\n",
       " 'RPL11': ['23696344',\n",
       "  '23696346',\n",
       "  '23695900',\n",
       "  '23696350',\n",
       "  '23695899',\n",
       "  '23696347',\n",
       "  '23695901',\n",
       "  '23696351'],\n",
       " 'TUBA1B': ['49127781'],\n",
       " 'PFN1': ['4945651'],\n",
       " 'RACK1': ['181236936', '181236928', '181236941'],\n",
       " 'SERTAD1': ['40422500'],\n",
       " 'RPLP2': ['812792', '812790'],\n",
       " 'BTG1': ['92143124'],\n",
       " 'RPL24': ['101681095', '101681090'],\n",
       " 'TUBA1A': ['49184798'],\n",
       " 'HNRNPA2B1': ['26191843'],\n",
       " 'MT-CYB': ['15802', '15807', '15819'],\n",
       " 'ITGB2': ['44885952'],\n",
       " 'CD3D': ['118339074'],\n",
       " 'CORO1B;PTPRCAP': ['67435509'],\n",
       " 'RPS5': ['58394732'],\n",
       " 'RNASET2': ['166929515'],\n",
       " 'RPS17': ['82536752'],\n",
       " 'S100A9': ['153360947',\n",
       "  '153360937',\n",
       "  '153360946',\n",
       "  '153360945',\n",
       "  '153360938',\n",
       "  '153360939',\n",
       "  '153360959',\n",
       "  '153360949',\n",
       "  '153360942'],\n",
       " 'LTB': ['31580571'],\n",
       " 'ARPC3': ['110434889', '110434905'],\n",
       " 'CTSD': ['1752754'],\n",
       " 'RPS15A': ['18782954'],\n",
       " 'ATP5F1B': ['56638174'],\n",
       " 'RPL26': ['8377522'],\n",
       " 'EIF1': ['41691566'],\n",
       " 'RPS24': ['78040615', '78040616', '78040613', '78040631'],\n",
       " 'RPL36AL': ['49618687'],\n",
       " 'RPL19': ['39204638', '39204637'],\n",
       " 'COX6C': ['99878148'],\n",
       " 'RPS21': ['62388456'],\n",
       " 'RPL10': ['154400834'],\n",
       " 'CLIC1': ['31730598'],\n",
       " 'TRIR': ['12730639'],\n",
       " 'ATP5F1E': ['59028684'],\n",
       " 'RPL37': ['40832457'],\n",
       " 'UBA52': ['18575157'],\n",
       " 'TKT': ['53225647'],\n",
       " 'ICAM3': ['10333775'],\n",
       " 'SPI1': ['47354859'],\n",
       " 'RPL36': ['5691584'],\n",
       " 'AES': ['3053158'],\n",
       " 'CHCHD2': ['56101572'],\n",
       " 'CFL1': ['65854810'],\n",
       " 'LCP1': ['46125922'],\n",
       " 'GMFG': ['39328364', '39328358'],\n",
       " 'ENO1': ['8861001'],\n",
       " 'EIF4G2': ['10797053'],\n",
       " 'RPL28': ['55388300'],\n",
       " 'NOSIP': ['49555710'],\n",
       " 'KLF6': ['3776552'],\n",
       " 'ANXA5': ['121667996'],\n",
       " 'ZFP36L2': ['43222405'],\n",
       " 'PYCARD': ['31201485'],\n",
       " 'FOSB': ['45475117'],\n",
       " 'LDHB': ['21635341'],\n",
       " 'NDUFB7': ['14566077'],\n",
       " 'ARHGDIB': ['14942030'],\n",
       " 'EEF1D': ['143579727'],\n",
       " 'CD48': ['160678745'],\n",
       " 'YPEL3': ['30092313'],\n",
       " 'TMEM258': ['61789129'],\n",
       " 'CSTB': ['43773949'],\n",
       " 'RPL37A': ['216501388'],\n",
       " 'CTSZ': ['58995186'],\n",
       " 'RPL9': ['39454123']}"
      ]
     },
     "execution_count": 20,
     "metadata": {},
     "output_type": "execute_result"
    }
   ],
   "source": [
    "abundant_sites"
   ]
  },
  {
   "cell_type": "code",
   "execution_count": 33,
   "metadata": {},
   "outputs": [
    {
     "data": {
      "text/plain": [
       "137"
      ]
     },
     "execution_count": 33,
     "metadata": {},
     "output_type": "execute_result"
    }
   ],
   "source": [
    "len(abundant_sites)"
   ]
  },
  {
   "cell_type": "code",
   "execution_count": 21,
   "metadata": {
    "scrolled": true
   },
   "outputs": [
    {
     "data": {
      "text/plain": [
       "{'RPL30': ['98041720', '98041718'],\n",
       " 'RPL32': ['12836046', '12836048', '12836025'],\n",
       " 'TPT1': ['45337176', '45336869'],\n",
       " 'RPL18': ['48615330', '48615327', '48615332'],\n",
       " 'TMSB10': ['84906592',\n",
       "  '84906600',\n",
       "  '84906593',\n",
       "  '84906594',\n",
       "  '84906609',\n",
       "  '84906610',\n",
       "  '84906587',\n",
       "  '84906595',\n",
       "  '84906605',\n",
       "  '84906611',\n",
       "  '84906604',\n",
       "  '84906590',\n",
       "  '84906602'],\n",
       " 'RPS16': ['39433206', '39433223', '39433216'],\n",
       " 'FOS': ['75282161',\n",
       "  '75282149',\n",
       "  '75282144',\n",
       "  '75282153',\n",
       "  '75282162',\n",
       "  '75282163',\n",
       "  '75282156',\n",
       "  '75282151',\n",
       "  '75282148',\n",
       "  '75282159',\n",
       "  '75282154',\n",
       "  '75282160',\n",
       "  '75282150'],\n",
       " 'RPS14': ['150444237', '150444228'],\n",
       " 'RPS4X': ['72272602', '72272611', '72272607'],\n",
       " 'RPL14': ['40462001',\n",
       "  '40461996',\n",
       "  '40461995',\n",
       "  '40462000',\n",
       "  '40461994',\n",
       "  '40461998'],\n",
       " 'S100A4': ['153543620', '153543621', '153543618'],\n",
       " 'RPS29': ['49583576', '49583578', '49583571', '49583577'],\n",
       " 'LYZ': ['69354150',\n",
       "  '69354149',\n",
       "  '69354169',\n",
       "  '69354162',\n",
       "  '69354160',\n",
       "  '69354171',\n",
       "  '69354167',\n",
       "  '69354152',\n",
       "  '69354148',\n",
       "  '69354151',\n",
       "  '69354166',\n",
       "  '69354158',\n",
       "  '69354153',\n",
       "  '69354156'],\n",
       " 'B2M': ['44718072',\n",
       "  '44718068',\n",
       "  '44718063',\n",
       "  '44718071',\n",
       "  '44718061',\n",
       "  '44718082',\n",
       "  '44718073',\n",
       "  '44718067',\n",
       "  '44718060',\n",
       "  '44718078',\n",
       "  '44718083',\n",
       "  '44718064',\n",
       "  '44718076',\n",
       "  '44718077',\n",
       "  '44718065',\n",
       "  '44718062',\n",
       "  '44718074',\n",
       "  '44718084',\n",
       "  '44718075',\n",
       "  '44718080',\n",
       "  '44718070'],\n",
       " 'FAU': ['65120629', '65120633'],\n",
       " 'CYBA': ['88643288', '88643290'],\n",
       " 'HLA-DRB1': ['32579078', '32578774', '32578768'],\n",
       " 'MT-ATP6': ['9129',\n",
       "  '9128',\n",
       "  '9145',\n",
       "  '9141',\n",
       "  '9122',\n",
       "  '9134',\n",
       "  '9124',\n",
       "  '9139',\n",
       "  '9121',\n",
       "  '9135',\n",
       "  '9132',\n",
       "  '9144',\n",
       "  '9130',\n",
       "  '9138',\n",
       "  '9143',\n",
       "  '9126'],\n",
       " 'H3F3B': ['75778249', '75777458', '75778019'],\n",
       " 'RPL35': ['124857882', '124857884'],\n",
       " 'JUN': ['58781485', '58781319', '58781489', '58781382', '58780787'],\n",
       " 'RPLP1': ['69455463', '69455460', '69455461'],\n",
       " 'RPS19': ['41869734',\n",
       "  '41869744',\n",
       "  '41869739',\n",
       "  '41869743',\n",
       "  '41869741',\n",
       "  '41869735',\n",
       "  '41871350',\n",
       "  '41869747'],\n",
       " 'JUNB': ['12793228',\n",
       "  '12793244',\n",
       "  '12793135',\n",
       "  '12793239',\n",
       "  '12793234',\n",
       "  '12793250',\n",
       "  '12793229'],\n",
       " 'MT-ND3': ['10319', '10324', '10331', '10326'],\n",
       " 'HLA-DPA1': ['33065015', '33065013'],\n",
       " 'RPL12': ['127447675', '127447677', '127447673'],\n",
       " 'RPL11': ['23696344',\n",
       "  '23696346',\n",
       "  '23695900',\n",
       "  '23696350',\n",
       "  '23695899',\n",
       "  '23696347',\n",
       "  '23695901',\n",
       "  '23696351'],\n",
       " 'RACK1': ['181236936', '181236928', '181236941'],\n",
       " 'RPLP2': ['812792', '812790'],\n",
       " 'RPL24': ['101681095', '101681090'],\n",
       " 'MT-CYB': ['15802', '15807', '15819'],\n",
       " 'S100A9': ['153360947',\n",
       "  '153360937',\n",
       "  '153360946',\n",
       "  '153360945',\n",
       "  '153360938',\n",
       "  '153360939',\n",
       "  '153360959',\n",
       "  '153360949',\n",
       "  '153360942'],\n",
       " 'ARPC3': ['110434889', '110434905'],\n",
       " 'RPS24': ['78040615', '78040616', '78040613', '78040631'],\n",
       " 'RPL19': ['39204638', '39204637'],\n",
       " 'GMFG': ['39328364', '39328358']}"
      ]
     },
     "execution_count": 21,
     "metadata": {},
     "output_type": "execute_result"
    }
   ],
   "source": [
    "{i: sites for i, sites in abundant_sites.items() if len(sites) > 1}"
   ]
  },
  {
   "cell_type": "code",
   "execution_count": 22,
   "metadata": {},
   "outputs": [],
   "source": [
    "discover_polya = {}\n",
    "for gene, gene_data in polya_reads.items():\n",
    "    count_by_location = discover_polya.setdefault(gene, {})\n",
    "    for location, sequence_data in gene_data.items():\n",
    "        UMI_per_location = collections.Counter()\n",
    "        for CB, UMI, seq in sequence_data:\n",
    "            UMI_per_location[(CB, UMI)] += 1\n",
    "        count_by_location[location] = len(UMI_per_location)"
   ]
  },
  {
   "cell_type": "code",
   "execution_count": 23,
   "metadata": {
    "scrolled": true
   },
   "outputs": [],
   "source": [
    "# discover_polya[\"TPT1\"]"
   ]
  },
  {
   "cell_type": "code",
   "execution_count": 24,
   "metadata": {},
   "outputs": [],
   "source": [
    "# polya_reads[\"TPT1\"][\"45337190\"]"
   ]
  },
  {
   "cell_type": "code",
   "execution_count": 25,
   "metadata": {},
   "outputs": [],
   "source": [
    "# polya_reads[\"TPT1\"][\"45337176\"]"
   ]
  },
  {
   "cell_type": "code",
   "execution_count": 26,
   "metadata": {},
   "outputs": [],
   "source": [
    "# discover_polya[\"JUN\"]"
   ]
  },
  {
   "cell_type": "code",
   "execution_count": 27,
   "metadata": {},
   "outputs": [],
   "source": [
    "# polya_reads[\"JUN\"]['58780787']"
   ]
  },
  {
   "cell_type": "code",
   "execution_count": 28,
   "metadata": {},
   "outputs": [],
   "source": [
    "# polya_reads[\"HLA-DRB1\"]['32578768']"
   ]
  },
  {
   "cell_type": "code",
   "execution_count": 29,
   "metadata": {},
   "outputs": [],
   "source": [
    "# polya_reads[\"HLA-DRB1\"]"
   ]
  },
  {
   "cell_type": "code",
   "execution_count": 30,
   "metadata": {},
   "outputs": [],
   "source": [
    "# discover_polya[\"JUN\"]"
   ]
  },
  {
   "cell_type": "code",
   "execution_count": 31,
   "metadata": {},
   "outputs": [],
   "source": [
    "# polya_reads[\"JUN\"][\"58781319\"]"
   ]
  },
  {
   "cell_type": "code",
   "execution_count": 32,
   "metadata": {},
   "outputs": [],
   "source": [
    "# polya_reads[\"JUN\"][\"58780787\"]"
   ]
  },
  {
   "cell_type": "markdown",
   "metadata": {},
   "source": [
    "# Reference"
   ]
  },
  {
   "cell_type": "markdown",
   "metadata": {},
   "source": [
    "Match -- 0\n",
    "\n",
    "Insertion -- 1\n",
    "\n",
    "Deletion -- 2\n",
    "\n",
    "Splice -- 3\n",
    "\n",
    "Softclip -- 4\n",
    "\n",
    "Hardclip (not good, rerun the alignment) -- 5"
   ]
  },
  {
   "cell_type": "markdown",
   "metadata": {},
   "source": [
    "```\n",
    "[(798512, (0,)),\n",
    " (143947, (4, 0)),\n",
    " (46502, (0, 4)),\n",
    " (3855, (4, 0, 4)),\n",
    " (3518, (0, 1, 0)),\n",
    " (1662, (0, 2, 0)),\n",
    " (1380, (0, 3, 0)),\n",
    " (133, (4, 0, 1, 0)),\n",
    " (123, (0, 1, 0, 4)),\n",
    " (109, (4, 0, 3, 0)),\n",
    " (101, (0, 3, 0, 4)),\n",
    " (62, (0, 2, 0, 4)),\n",
    " (46, (4, 0, 2, 0)),\n",
    " (11, (4, 0, 3, 0, 4)),\n",
    " (9, (0, 3, 0, 3, 0)),\n",
    " (8, (0, 3, 0, 1, 0)),\n",
    " (6, (4, 0, 1, 0, 4)),\n",
    " (4, (0, 1, 0, 1, 0)),\n",
    " (3, (4, 0, 2, 0, 4)),\n",
    " (3, (0, 1, 0, 2, 0)),\n",
    " (2, (0, 2, 0, 1, 0)),\n",
    " (1, (4, 0, 1, 0, 2, 0)),\n",
    " (1, (0, 2, 0, 2, 0)),\n",
    " (1, (0, 1, 0, 3, 0)),\n",
    " (1, (0, 1, 0, 1, 0, 4))]\n",
    "```"
   ]
  }
 ],
 "metadata": {
  "kernelspec": {
   "display_name": "Python 3",
   "language": "python",
   "name": "python3"
  },
  "language_info": {
   "codemirror_mode": {
    "name": "ipython",
    "version": 3
   },
   "file_extension": ".py",
   "mimetype": "text/x-python",
   "name": "python",
   "nbconvert_exporter": "python",
   "pygments_lexer": "ipython3",
   "version": "3.7.3"
  }
 },
 "nbformat": 4,
 "nbformat_minor": 2
}
