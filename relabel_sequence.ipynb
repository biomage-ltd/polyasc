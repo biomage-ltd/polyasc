{
 "cells": [
  {
   "cell_type": "code",
   "execution_count": 57,
   "metadata": {},
   "outputs": [],
   "source": [
    "with open(\"good_hg38_fna\", \"w\") as g:\n",
    "    with open(\"GCA_000001405.15_GRCh38_no_alt_analysis_set.fna\", \"r\") as f:\n",
    "        for line in f:\n",
    "            if line and line[0] == \">\":\n",
    "                result = re.search(\"chr[\\d]+\", line)\n",
    "                if result:\n",
    "                    line = line[:result.start()] + result.group()[3:] + line[result.end():]\n",
    "            g.write(line)"
   ]
  },
  {
   "cell_type": "code",
   "execution_count": null,
   "metadata": {},
   "outputs": [],
   "source": []
  }
 ],
 "metadata": {
  "kernelspec": {
   "display_name": "Python 3",
   "language": "python",
   "name": "python3"
  },
  "language_info": {
   "codemirror_mode": {
    "name": "ipython",
    "version": 3
   },
   "file_extension": ".py",
   "mimetype": "text/x-python",
   "name": "python",
   "nbconvert_exporter": "python",
   "pygments_lexer": "ipython3",
   "version": "3.7.3"
  }
 },
 "nbformat": 4,
 "nbformat_minor": 2
}
